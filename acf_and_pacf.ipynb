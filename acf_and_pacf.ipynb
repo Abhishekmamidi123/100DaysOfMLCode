{
 "cells": [
  {
   "cell_type": "markdown",
   "metadata": {},
   "source": [
    "# <center>Autocorrelation and Partial autocorrelation function from scratch</center>"
   ]
  },
  {
   "cell_type": "markdown",
   "metadata": {},
   "source": [
    "## Import libraies"
   ]
  },
  {
   "cell_type": "code",
   "execution_count": 55,
   "metadata": {},
   "outputs": [],
   "source": [
    "import numpy as np\n",
    "import pandas as pd\n",
    "from statsmodels.graphics.tsaplots import plot_acf\n",
    "from matplotlib import pyplot"
   ]
  },
  {
   "cell_type": "markdown",
   "metadata": {},
   "source": [
    "## Mean of the population"
   ]
  },
  {
   "cell_type": "code",
   "execution_count": 56,
   "metadata": {},
   "outputs": [],
   "source": [
    "def mean(population):\n",
    "    shape = np.shape(population)\n",
    "    length_of_population = shape[0]\n",
    "    if length_of_population == 0:\n",
    "        mean = 0\n",
    "    else:\n",
    "        mean = np.sum(population)/length_of_population\n",
    "    return mean"
   ]
  },
  {
   "cell_type": "markdown",
   "metadata": {},
   "source": [
    "## Variance of the population"
   ]
  },
  {
   "cell_type": "code",
   "execution_count": 57,
   "metadata": {},
   "outputs": [],
   "source": [
    "def variance(population):\n",
    "    shape = np.shape(population)\n",
    "    length_of_population = shape[0]\n",
    "    if length_of_population == 0:\n",
    "        variance = 0\n",
    "    else:\n",
    "        deviation_from_mean = population - mean(population)\n",
    "        squares_of_devaiation = deviation_from_mean ** 2\n",
    "        variance = np.sum(squares_of_devaiation)/length_of_population\n",
    "    return variance"
   ]
  },
  {
   "cell_type": "markdown",
   "metadata": {},
   "source": [
    "## Standard devaition of the population"
   ]
  },
  {
   "cell_type": "code",
   "execution_count": 58,
   "metadata": {},
   "outputs": [],
   "source": [
    "def standard_deviation(population):\n",
    "    var = variance(population)\n",
    "    sd = np.sqrt(var)\n",
    "    return sd"
   ]
  },
  {
   "cell_type": "markdown",
   "metadata": {},
   "source": [
    "## Pearson correlation coefficient"
   ]
  },
  {
   "cell_type": "code",
   "execution_count": 59,
   "metadata": {},
   "outputs": [],
   "source": [
    "def pearson_correlation_coef(A, B):\n",
    "    shape_A = np.shape(A)\n",
    "    shape_B = np.shape(B)\n",
    "    if shape_A[0] != shape_B[0]:\n",
    "        print(\"Error in correlation function. The length of two lists are not same.\")\n",
    "    else:\n",
    "        num = np.sum((A - mean(A)) * (B - mean(B)))\n",
    "        den = standard_deviation(A) * standard_deviation(B) * shape_A[0]\n",
    "        correlation_coef = num/den\n",
    "        return correlation_coef"
   ]
  },
  {
   "cell_type": "markdown",
   "metadata": {},
   "source": [
    "## Plot autocorrelation fucntion\n",
    "- correlation_coef  is a helper function for finding autocorrelation."
   ]
  },
  {
   "cell_type": "code",
   "execution_count": 60,
   "metadata": {},
   "outputs": [],
   "source": [
    "def correlation_coef(A, B, mean_population, var_population, length):\n",
    "    shape_A = np.shape(A)\n",
    "    shape_B = np.shape(B)\n",
    "    if shape_A[0] != shape_B[0]:\n",
    "        print(\"Error in correlation function. The length of two lists are not same.\")\n",
    "    else:\n",
    "        num = np.sum((A - mean_population) * (B - mean_population))\n",
    "        den = var_population * length\n",
    "        correlation_coef = num/den\n",
    "        return correlation_coef\n",
    "\n",
    "\n",
    "def plot_autocorrelation_function(population):\n",
    "    autocorrelation_coefs = []\n",
    "    length = np.shape(population)[0]\n",
    "    mean_population = mean(population)\n",
    "    var_population = variance(population)\n",
    "    for lag in range(0, length):\n",
    "        A = population[lag: ]\n",
    "        B = population[:length-lag]\n",
    "        corr_coef = correlation_coef(A, B, mean_population, var_population, length)\n",
    "        autocorrelation_coefs.append(corr_coef)\n",
    "    print(autocorrelation_coefs)"
   ]
  },
  {
   "cell_type": "code",
   "execution_count": 49,
   "metadata": {},
   "outputs": [],
   "source": [
    "a = [1,5,10,3,2,7]\n",
    "\n"
   ]
  },
  {
   "cell_type": "code",
   "execution_count": 50,
   "metadata": {},
   "outputs": [
    {
     "data": {
      "image/png": "[encoded data removed]",
      "text/plain": [
       "<Figure size 432x288 with 1 Axes>"
      ]
     },
     "metadata": {},
     "output_type": "display_data"
    }
   ],
   "source": [
    "plot_acf(a)\n",
    "pyplot.show()"
   ]
  },
  {
   "cell_type": "code",
   "execution_count": 51,
   "metadata": {},
   "outputs": [
    {
     "name": "stdout",
     "output_type": "stream",
     "text": [
      "[1.0000000000000002, -0.17635658914728683, -0.6666666666666669, 0.308139534883721, 0.184108527131783, -0.1492248062015504]\n"
     ]
    }
   ],
   "source": [
    "plot_autocorrelation_function(a)"
   ]
  },
  {
   "cell_type": "code",
   "execution_count": 24,
   "metadata": {},
   "outputs": [
    {
     "data": {
      "text/plain": [
       "0.12056070554260305"
      ]
     },
     "execution_count": 24,
     "metadata": {},
     "output_type": "execute_result"
    }
   ],
   "source": [
    "pearson_correlation_coef([1,5,10,3,2,7], [0,0,0,1,5,10])"
   ]
  },
  {
   "cell_type": "code",
   "execution_count": 38,
   "metadata": {},
   "outputs": [],
   "source": [
    "import numpy\n",
    "def acf(series):\n",
    "    n = len(series)\n",
    "    data = numpy.asarray(series)\n",
    "    mean = numpy.mean(data)\n",
    "    c0 = numpy.sum((data - mean) ** 2) / float(n)\n",
    "\n",
    "    def r(h):\n",
    "        acf_lag = ((data[:n - h] - mean) * (data[h:] - mean)).sum() / float(n) / c0\n",
    "        print(round(acf_lag, 3))\n",
    "        return round(acf_lag, 3)\n",
    "    x = numpy.arange(n) # Avoiding lag 0 calculation\n",
    "    acf_coeffs = map(r, x)\n",
    "    return acf_coeffs"
   ]
  },
  {
   "cell_type": "code",
   "execution_count": 39,
   "metadata": {},
   "outputs": [
    {
     "data": {
      "text/plain": [
       "<map at 0x7fedc2960898>"
      ]
     },
     "execution_count": 39,
     "metadata": {},
     "output_type": "execute_result"
    }
   ],
   "source": [
    "acf(a)"
   ]
  },
  {
   "cell_type": "code",
   "execution_count": null,
   "metadata": {},
   "outputs": [],
   "source": []
  }
 ],
 "metadata": {
  "kernelspec": {
   "display_name": "Python 3",
   "language": "python",
   "name": "python3"
  },
  "language_info": {
   "codemirror_mode": {
    "name": "ipython",
    "version": 3
   },
   "file_extension": ".py",
   "mimetype": "text/x-python",
   "name": "python",
   "nbconvert_exporter": "python",
   "pygments_lexer": "ipython3",
   "version": "3.5.2"
  }
 },
 "nbformat": 4,
 "nbformat_minor": 2
}
